{
 "cells": [
  {
   "cell_type": "code",
   "execution_count": 55,
   "id": "3eacc4aa-9e9f-47cb-8f51-eaedd53620b7",
   "metadata": {
    "collapsed": true,
    "jupyter": {
     "outputs_hidden": true
    }
   },
   "outputs": [],
   "source": [
    "import numpy as np\n",
    "import pandas as pd\n",
    "import matplotlib.pyplot as plt\n",
    "import pandas_datareader as web\n",
    "import yfinance as yf\n",
    "\n",
    "from datetime import datetime as dt"
   ]
  },
  {
   "cell_type": "code",
   "execution_count": 56,
   "id": "61b93471-3bff-456d-b043-5b9afa96cf42",
   "metadata": {
    "collapsed": true,
    "jupyter": {
     "outputs_hidden": true
    }
   },
   "outputs": [
    {
     "name": "stdout",
     "output_type": "stream",
     "text": [
      "[*********************100%%**********************]  1 of 1 completed\n"
     ]
    }
   ],
   "source": [
    "# We should take bigger timeframe for our model to be accurate\n",
    "ticker = 'AAPL'\n",
    "start_date = dt(2010, 1, 1)\n",
    "end_date = dt.now()\n",
    "# User can take any stock picker\n",
    "df = yf.download(ticker, start=start_date, end=end_date)"
   ]
  },
  {
   "cell_type": "code",
   "execution_count": 57,
   "id": "600e6669-b2f1-4001-a71e-7d781240131c",
   "metadata": {
    "collapsed": true,
    "jupyter": {
     "outputs_hidden": true
    }
   },
   "outputs": [
    {
     "data": {
      "text/plain": [
       "(3506, 6)"
      ]
     },
     "execution_count": 57,
     "metadata": {},
     "output_type": "execute_result"
    }
   ],
   "source": [
    "df.shape"
   ]
  },
  {
   "cell_type": "code",
   "execution_count": 58,
   "id": "f9deb2cf-62a5-4d17-a9d8-36e484fb8b2b",
   "metadata": {
    "collapsed": true,
    "jupyter": {
     "outputs_hidden": true
    }
   },
   "outputs": [
    {
     "data": {
      "text/html": [
       "<div>\n",
       "<style scoped>\n",
       "    .dataframe tbody tr th:only-of-type {\n",
       "        vertical-align: middle;\n",
       "    }\n",
       "\n",
       "    .dataframe tbody tr th {\n",
       "        vertical-align: top;\n",
       "    }\n",
       "\n",
       "    .dataframe thead th {\n",
       "        text-align: right;\n",
       "    }\n",
       "</style>\n",
       "<table border=\"1\" class=\"dataframe\">\n",
       "  <thead>\n",
       "    <tr style=\"text-align: right;\">\n",
       "      <th></th>\n",
       "      <th>Open</th>\n",
       "      <th>High</th>\n",
       "      <th>Low</th>\n",
       "      <th>Close</th>\n",
       "      <th>Adj Close</th>\n",
       "      <th>Volume</th>\n",
       "    </tr>\n",
       "    <tr>\n",
       "      <th>Date</th>\n",
       "      <th></th>\n",
       "      <th></th>\n",
       "      <th></th>\n",
       "      <th></th>\n",
       "      <th></th>\n",
       "      <th></th>\n",
       "    </tr>\n",
       "  </thead>\n",
       "  <tbody>\n",
       "    <tr>\n",
       "      <th>2010-01-04</th>\n",
       "      <td>7.622500</td>\n",
       "      <td>7.660714</td>\n",
       "      <td>7.585000</td>\n",
       "      <td>7.643214</td>\n",
       "      <td>6.478998</td>\n",
       "      <td>493729600</td>\n",
       "    </tr>\n",
       "    <tr>\n",
       "      <th>2010-01-05</th>\n",
       "      <td>7.664286</td>\n",
       "      <td>7.699643</td>\n",
       "      <td>7.616071</td>\n",
       "      <td>7.656429</td>\n",
       "      <td>6.490199</td>\n",
       "      <td>601904800</td>\n",
       "    </tr>\n",
       "    <tr>\n",
       "      <th>2010-01-06</th>\n",
       "      <td>7.656429</td>\n",
       "      <td>7.686786</td>\n",
       "      <td>7.526786</td>\n",
       "      <td>7.534643</td>\n",
       "      <td>6.386964</td>\n",
       "      <td>552160000</td>\n",
       "    </tr>\n",
       "    <tr>\n",
       "      <th>2010-01-07</th>\n",
       "      <td>7.562500</td>\n",
       "      <td>7.571429</td>\n",
       "      <td>7.466071</td>\n",
       "      <td>7.520714</td>\n",
       "      <td>6.375155</td>\n",
       "      <td>477131200</td>\n",
       "    </tr>\n",
       "    <tr>\n",
       "      <th>2010-01-08</th>\n",
       "      <td>7.510714</td>\n",
       "      <td>7.571429</td>\n",
       "      <td>7.466429</td>\n",
       "      <td>7.570714</td>\n",
       "      <td>6.417542</td>\n",
       "      <td>447610800</td>\n",
       "    </tr>\n",
       "    <tr>\n",
       "      <th>...</th>\n",
       "      <td>...</td>\n",
       "      <td>...</td>\n",
       "      <td>...</td>\n",
       "      <td>...</td>\n",
       "      <td>...</td>\n",
       "      <td>...</td>\n",
       "    </tr>\n",
       "    <tr>\n",
       "      <th>2023-11-30</th>\n",
       "      <td>189.839996</td>\n",
       "      <td>190.320007</td>\n",
       "      <td>188.190002</td>\n",
       "      <td>189.949997</td>\n",
       "      <td>189.949997</td>\n",
       "      <td>48794400</td>\n",
       "    </tr>\n",
       "    <tr>\n",
       "      <th>2023-12-01</th>\n",
       "      <td>190.330002</td>\n",
       "      <td>191.559998</td>\n",
       "      <td>189.229996</td>\n",
       "      <td>191.240005</td>\n",
       "      <td>191.240005</td>\n",
       "      <td>45679300</td>\n",
       "    </tr>\n",
       "    <tr>\n",
       "      <th>2023-12-04</th>\n",
       "      <td>189.979996</td>\n",
       "      <td>190.050003</td>\n",
       "      <td>187.449997</td>\n",
       "      <td>189.429993</td>\n",
       "      <td>189.429993</td>\n",
       "      <td>43389500</td>\n",
       "    </tr>\n",
       "    <tr>\n",
       "      <th>2023-12-05</th>\n",
       "      <td>190.210007</td>\n",
       "      <td>194.399994</td>\n",
       "      <td>190.179993</td>\n",
       "      <td>193.419998</td>\n",
       "      <td>193.419998</td>\n",
       "      <td>66371700</td>\n",
       "    </tr>\n",
       "    <tr>\n",
       "      <th>2023-12-06</th>\n",
       "      <td>194.449997</td>\n",
       "      <td>194.759995</td>\n",
       "      <td>192.869995</td>\n",
       "      <td>192.895004</td>\n",
       "      <td>192.895004</td>\n",
       "      <td>7214013</td>\n",
       "    </tr>\n",
       "  </tbody>\n",
       "</table>\n",
       "<p>3506 rows × 6 columns</p>\n",
       "</div>"
      ],
      "text/plain": [
       "                  Open        High         Low       Close   Adj Close  \\\n",
       "Date                                                                     \n",
       "2010-01-04    7.622500    7.660714    7.585000    7.643214    6.478998   \n",
       "2010-01-05    7.664286    7.699643    7.616071    7.656429    6.490199   \n",
       "2010-01-06    7.656429    7.686786    7.526786    7.534643    6.386964   \n",
       "2010-01-07    7.562500    7.571429    7.466071    7.520714    6.375155   \n",
       "2010-01-08    7.510714    7.571429    7.466429    7.570714    6.417542   \n",
       "...                ...         ...         ...         ...         ...   \n",
       "2023-11-30  189.839996  190.320007  188.190002  189.949997  189.949997   \n",
       "2023-12-01  190.330002  191.559998  189.229996  191.240005  191.240005   \n",
       "2023-12-04  189.979996  190.050003  187.449997  189.429993  189.429993   \n",
       "2023-12-05  190.210007  194.399994  190.179993  193.419998  193.419998   \n",
       "2023-12-06  194.449997  194.759995  192.869995  192.895004  192.895004   \n",
       "\n",
       "               Volume  \n",
       "Date                   \n",
       "2010-01-04  493729600  \n",
       "2010-01-05  601904800  \n",
       "2010-01-06  552160000  \n",
       "2010-01-07  477131200  \n",
       "2010-01-08  447610800  \n",
       "...               ...  \n",
       "2023-11-30   48794400  \n",
       "2023-12-01   45679300  \n",
       "2023-12-04   43389500  \n",
       "2023-12-05   66371700  \n",
       "2023-12-06    7214013  \n",
       "\n",
       "[3506 rows x 6 columns]"
      ]
     },
     "execution_count": 58,
     "metadata": {},
     "output_type": "execute_result"
    }
   ],
   "source": [
    "df"
   ]
  },
  {
   "cell_type": "code",
   "execution_count": 59,
   "id": "516364be-7eaa-47bc-9ad7-b97b5042fa48",
   "metadata": {
    "collapsed": true,
    "jupyter": {
     "outputs_hidden": true
    }
   },
   "outputs": [],
   "source": [
    "df.to_csv('output.csv', index=False)"
   ]
  },
  {
   "cell_type": "code",
   "execution_count": 60,
   "id": "9eb6860c-589a-461d-9bca-aebf8f1fbd59",
   "metadata": {
    "collapsed": true,
    "jupyter": {
     "outputs_hidden": true
    }
   },
   "outputs": [
    {
     "data": {
      "text/plain": [
       "<matplotlib.legend.Legend at 0x244ce1f4c50>"
      ]
     },
     "execution_count": 60,
     "metadata": {},
     "output_type": "execute_result"
    },
    {
     "data": {
      "image/png": "[encoded data removed]",
      "text/plain": [
       "<Figure size 640x480 with 1 Axes>"
      ]
     },
     "metadata": {},
     "output_type": "display_data"
    }
   ],
   "source": [
    "plt.plot(df['Close'],label = 'AAPL')\n",
    "plt.legend()"
   ]
  },
  {
   "cell_type": "code",
   "execution_count": 61,
   "id": "4681bb5c-dd0a-4f7a-b101-d22053b32376",
   "metadata": {
    "collapsed": true,
    "jupyter": {
     "outputs_hidden": true
    }
   },
   "outputs": [],
   "source": [
    "# Dropping Date and Adj Close Column\n",
    "df = df.drop(['Adj Close'], axis = 1)"
   ]
  },
  {
   "cell_type": "code",
   "execution_count": 62,
   "id": "0947e2ef-7fe9-49b6-b922-22c30a57066a",
   "metadata": {
    "collapsed": true,
    "jupyter": {
     "outputs_hidden": true
    }
   },
   "outputs": [
    {
     "data": {
      "text/html": [
       "<div>\n",
       "<style scoped>\n",
       "    .dataframe tbody tr th:only-of-type {\n",
       "        vertical-align: middle;\n",
       "    }\n",
       "\n",
       "    .dataframe tbody tr th {\n",
       "        vertical-align: top;\n",
       "    }\n",
       "\n",
       "    .dataframe thead th {\n",
       "        text-align: right;\n",
       "    }\n",
       "</style>\n",
       "<table border=\"1\" class=\"dataframe\">\n",
       "  <thead>\n",
       "    <tr style=\"text-align: right;\">\n",
       "      <th></th>\n",
       "      <th>Open</th>\n",
       "      <th>High</th>\n",
       "      <th>Low</th>\n",
       "      <th>Close</th>\n",
       "      <th>Volume</th>\n",
       "    </tr>\n",
       "  </thead>\n",
       "  <tbody>\n",
       "    <tr>\n",
       "      <th>0</th>\n",
       "      <td>7.622500</td>\n",
       "      <td>7.660714</td>\n",
       "      <td>7.585000</td>\n",
       "      <td>7.643214</td>\n",
       "      <td>493729600</td>\n",
       "    </tr>\n",
       "    <tr>\n",
       "      <th>1</th>\n",
       "      <td>7.664286</td>\n",
       "      <td>7.699643</td>\n",
       "      <td>7.616071</td>\n",
       "      <td>7.656429</td>\n",
       "      <td>601904800</td>\n",
       "    </tr>\n",
       "    <tr>\n",
       "      <th>2</th>\n",
       "      <td>7.656429</td>\n",
       "      <td>7.686786</td>\n",
       "      <td>7.526786</td>\n",
       "      <td>7.534643</td>\n",
       "      <td>552160000</td>\n",
       "    </tr>\n",
       "    <tr>\n",
       "      <th>3</th>\n",
       "      <td>7.562500</td>\n",
       "      <td>7.571429</td>\n",
       "      <td>7.466071</td>\n",
       "      <td>7.520714</td>\n",
       "      <td>477131200</td>\n",
       "    </tr>\n",
       "    <tr>\n",
       "      <th>4</th>\n",
       "      <td>7.510714</td>\n",
       "      <td>7.571429</td>\n",
       "      <td>7.466429</td>\n",
       "      <td>7.570714</td>\n",
       "      <td>447610800</td>\n",
       "    </tr>\n",
       "  </tbody>\n",
       "</table>\n",
       "</div>"
      ],
      "text/plain": [
       "       Open      High       Low     Close     Volume\n",
       "0  7.622500  7.660714  7.585000  7.643214  493729600\n",
       "1  7.664286  7.699643  7.616071  7.656429  601904800\n",
       "2  7.656429  7.686786  7.526786  7.534643  552160000\n",
       "3  7.562500  7.571429  7.466071  7.520714  477131200\n",
       "4  7.510714  7.571429  7.466429  7.570714  447610800"
      ]
     },
     "execution_count": 62,
     "metadata": {},
     "output_type": "execute_result"
    }
   ],
   "source": [
    "df = df.reset_index(drop = True)\n",
    "df.head()"
   ]
  },
  {
   "cell_type": "code",
   "execution_count": 63,
   "id": "87db5aa3-21f5-4b5e-9280-289e391aa895",
   "metadata": {
    "collapsed": true,
    "jupyter": {
     "outputs_hidden": true
    }
   },
   "outputs": [
    {
     "data": {
      "text/plain": [
       "0              NaN\n",
       "1              NaN\n",
       "2              NaN\n",
       "3              NaN\n",
       "4              NaN\n",
       "           ...    \n",
       "3501    181.564201\n",
       "3502    181.578901\n",
       "3503    181.567801\n",
       "3504    181.595101\n",
       "3505    181.584151\n",
       "Name: Close, Length: 3506, dtype: float64"
      ]
     },
     "execution_count": 63,
     "metadata": {},
     "output_type": "execute_result"
    }
   ],
   "source": [
    "# 100 days moving average\n",
    "# Moving average for first 100 days is not defined as we need at least 100\n",
    "# days data to get 100 day moving average\n",
    "ma100 = df.Close.rolling(100).mean()\n",
    "ma100"
   ]
  },
  {
   "cell_type": "code",
   "execution_count": 64,
   "id": "807a66af-4232-41c9-944d-9cb2f6670035",
   "metadata": {
    "collapsed": true,
    "jupyter": {
     "outputs_hidden": true
    }
   },
   "outputs": [
    {
     "data": {
      "text/plain": [
       "[<matplotlib.lines.Line2D at 0x244ce20da90>]"
      ]
     },
     "execution_count": 64,
     "metadata": {},
     "output_type": "execute_result"
    },
    {
     "data": {
      "image/png": "[encoded data removed]",
      "text/plain": [
       "<Figure size 1200x600 with 1 Axes>"
      ]
     },
     "metadata": {},
     "output_type": "display_data"
    }
   ],
   "source": [
    "# Plotting 100 days moving average graph\n",
    "plt.figure(figsize = (12,6))\n",
    "plt.plot(df.Close)\n",
    "plt.plot(ma100,'red')"
   ]
  },
  {
   "cell_type": "code",
   "execution_count": 65,
   "id": "ef1a6607-8285-4e6b-9ef0-ba1c52951b80",
   "metadata": {
    "collapsed": true,
    "jupyter": {
     "outputs_hidden": true
    }
   },
   "outputs": [
    {
     "data": {
      "text/plain": [
       "0              NaN\n",
       "1              NaN\n",
       "2              NaN\n",
       "3              NaN\n",
       "4              NaN\n",
       "           ...    \n",
       "3501    175.087600\n",
       "3502    175.267150\n",
       "3503    175.445750\n",
       "3504    175.650100\n",
       "3505    175.872175\n",
       "Name: Close, Length: 3506, dtype: float64"
      ]
     },
     "execution_count": 65,
     "metadata": {},
     "output_type": "execute_result"
    }
   ],
   "source": [
    "ma200 = df.Close.rolling(200).mean()\n",
    "ma200"
   ]
  },
  {
   "cell_type": "code",
   "execution_count": 66,
   "id": "10c1e922-cb77-44a1-bd45-06174eca1af2",
   "metadata": {
    "collapsed": true,
    "jupyter": {
     "outputs_hidden": true
    }
   },
   "outputs": [
    {
     "data": {
      "text/plain": [
       "[<matplotlib.lines.Line2D at 0x244ce486f10>]"
      ]
     },
     "execution_count": 66,
     "metadata": {},
     "output_type": "execute_result"
    },
    {
     "data": {
      "image/png": "[encoded data removed]",
      "text/plain": [
       "<Figure size 1200x600 with 1 Axes>"
      ]
     },
     "metadata": {},
     "output_type": "display_data"
    }
   ],
   "source": [
    "# Plotting 200 days moving average graph\n",
    "plt.figure(figsize = (12,6))\n",
    "plt.plot(df.Close)\n",
    "plt.plot(ma100,'r')\n",
    "plt.plot(ma200,'g')"
   ]
  },
  {
   "cell_type": "code",
   "execution_count": 67,
   "id": "87abd178-5259-4cfa-92ca-09968b2696d7",
   "metadata": {
    "collapsed": true,
    "jupyter": {
     "outputs_hidden": true
    }
   },
   "outputs": [
    {
     "name": "stdout",
     "output_type": "stream",
     "text": [
      "(2454, 1)\n",
      "(1052, 1)\n"
     ]
    }
   ],
   "source": [
    "# Splitting data into training and testing\n",
    "# We take 70% data for training and 30% for testing\n",
    "data_training = pd.DataFrame(df['Close'][0:int(len(df)*0.7)])\n",
    "data_testing = pd.DataFrame(df['Close'][int(len(df)*0.7):int (len(df))])\n",
    "print(data_training.shape)\n",
    "print(data_testing.shape)"
   ]
  },
  {
   "cell_type": "code",
   "execution_count": 68,
   "id": "dc5837e1-c043-416c-afd2-afacb36add8f",
   "metadata": {
    "collapsed": true,
    "jupyter": {
     "outputs_hidden": true
    }
   },
   "outputs": [],
   "source": [
    "# Now we should move on to scaling down data for LSTM model\n",
    "# We have to scale down it between 0 and 1\n",
    "from sklearn.preprocessing import MinMaxScaler\n",
    "scaler = MinMaxScaler(feature_range = (0,1))"
   ]
  },
  {
   "cell_type": "code",
   "execution_count": 69,
   "id": "9a29a84e-fde1-4ade-8477-c99221773f5d",
   "metadata": {
    "collapsed": true,
    "jupyter": {
     "outputs_hidden": true
    }
   },
   "outputs": [
    {
     "data": {
      "text/plain": [
       "array([[0.01533047],\n",
       "       [0.01558878],\n",
       "       [0.01320823],\n",
       "       ...,\n",
       "       [0.96041716],\n",
       "       [0.96344693],\n",
       "       [0.93593449]])"
      ]
     },
     "execution_count": 69,
     "metadata": {},
     "output_type": "execute_result"
    }
   ],
   "source": [
    "# scaler.fit_transform return an array\n",
    "data_training_array = scaler.fit_transform(data_training)\n",
    "data_training_array"
   ]
  },
  {
   "cell_type": "code",
   "execution_count": 70,
   "id": "ebe91ba5-cf9c-407e-b186-337d659e29ad",
   "metadata": {
    "collapsed": true,
    "jupyter": {
     "outputs_hidden": true
    }
   },
   "outputs": [
    {
     "data": {
      "text/plain": [
       "(2454, 1)"
      ]
     },
     "execution_count": 70,
     "metadata": {},
     "output_type": "execute_result"
    }
   ],
   "source": [
    "# Shape of data training array\n",
    "data_training_array.shape"
   ]
  },
  {
   "cell_type": "code",
   "execution_count": 71,
   "id": "53960058-a486-47b3-8e72-15ee0431d4f4",
   "metadata": {
    "collapsed": true,
    "jupyter": {
     "outputs_hidden": true
    }
   },
   "outputs": [],
   "source": [
    "# First 100 days will be x_train\n",
    "# And predicted value will be y_train\n",
    "# In short x_train predicts y_train\n",
    "x_train = []\n",
    "y_train = []\n",
    "for i in range(100,data_training_array.shape[0]):\n",
    "  x_train.append(data_training_array[i-100:i])\n",
    "  y_train.append(data_training_array[i,0])"
   ]
  },
  {
   "cell_type": "code",
   "execution_count": 72,
   "id": "0c01206f-9e9b-4d7b-9c0f-dff324d20e8a",
   "metadata": {
    "collapsed": true,
    "jupyter": {
     "outputs_hidden": true
    }
   },
   "outputs": [],
   "source": [
    "# Converting x_train and y_train to numpy array\n",
    "x_train, y_train = np.array(x_train),np.array(y_train)"
   ]
  },
  {
   "cell_type": "code",
   "execution_count": 73,
   "id": "ca2ff75e-5cd9-4f8e-8461-5d3160639aba",
   "metadata": {
    "collapsed": true,
    "jupyter": {
     "outputs_hidden": true
    }
   },
   "outputs": [
    {
     "data": {
      "text/plain": [
       "(2354, 100, 1)"
      ]
     },
     "execution_count": 73,
     "metadata": {},
     "output_type": "execute_result"
    }
   ],
   "source": [
    "x_train.shape"
   ]
  },
  {
   "cell_type": "code",
   "execution_count": 74,
   "id": "ba33f735-d170-4202-98b1-09324db16590",
   "metadata": {
    "collapsed": true,
    "jupyter": {
     "outputs_hidden": true
    }
   },
   "outputs": [
    {
     "data": {
      "text/plain": [
       "(2354,)"
      ]
     },
     "execution_count": 74,
     "metadata": {},
     "output_type": "execute_result"
    }
   ],
   "source": [
    "y_train.shape"
   ]
  },
  {
   "cell_type": "markdown",
   "id": "1c4bbe65-c16f-4eee-9449-4af6a27305b5",
   "metadata": {},
   "source": [
    "# Creating ML Model using LSTM (Long Short Time Memory)"
   ]
  },
  {
   "cell_type": "code",
   "execution_count": 75,
   "id": "6aab4b7e-7e4c-4623-bd0a-5b6e7cce6781",
   "metadata": {
    "collapsed": true,
    "jupyter": {
     "outputs_hidden": true
    }
   },
   "outputs": [],
   "source": [
    "from keras.layers import Dense, Dropout, LSTM\n",
    "from keras.models import Sequential"
   ]
  },
  {
   "cell_type": "code",
   "execution_count": 76,
   "id": "2d1fd3b0-9f4b-49a0-b6f1-cfc4d45c74aa",
   "metadata": {
    "collapsed": true,
    "jupyter": {
     "outputs_hidden": true
    }
   },
   "outputs": [],
   "source": [
    "model = Sequential()\n",
    "# Adding Layers\n",
    "model.add(LSTM(units = 50, activation = 'relu', return_sequences = True,\n",
    "               input_shape=(x_train.shape[1],1)))\n",
    "model.add(Dropout(0.2))\n",
    "\n",
    "model.add(LSTM(units = 60, activation = 'relu', return_sequences = True))\n",
    "model.add(Dropout(0.3))\n",
    "\n",
    "model.add(LSTM(units = 80, activation = 'relu', return_sequences = True))\n",
    "model.add(Dropout(0.4))\n",
    "\n",
    "model.add(LSTM(units = 120, activation = 'relu'))\n",
    "model.add(Dropout(0.5))\n",
    "\n",
    "# Connecting all layers\n",
    "model.add(Dense(units = 1))"
   ]
  },
  {
   "cell_type": "code",
   "execution_count": 77,
   "id": "ca1f6215-736d-452f-9224-113ac30a642a",
   "metadata": {
    "collapsed": true,
    "jupyter": {
     "outputs_hidden": true
    }
   },
   "outputs": [
    {
     "name": "stdout",
     "output_type": "stream",
     "text": [
      "Model: \"sequential_2\"\n",
      "_________________________________________________________________\n",
      " Layer (type)                Output Shape              Param #   \n",
      "=================================================================\n",
      " lstm_8 (LSTM)               (None, 100, 50)           10400     \n",
      "                                                                 \n",
      " dropout_8 (Dropout)         (None, 100, 50)           0         \n",
      "                                                                 \n",
      " lstm_9 (LSTM)               (None, 100, 60)           26640     \n",
      "                                                                 \n",
      " dropout_9 (Dropout)         (None, 100, 60)           0         \n",
      "                                                                 \n",
      " lstm_10 (LSTM)              (None, 100, 80)           45120     \n",
      "                                                                 \n",
      " dropout_10 (Dropout)        (None, 100, 80)           0         \n",
      "                                                                 \n",
      " lstm_11 (LSTM)              (None, 120)               96480     \n",
      "                                                                 \n",
      " dropout_11 (Dropout)        (None, 120)               0         \n",
      "                                                                 \n",
      " dense_2 (Dense)             (None, 1)                 121       \n",
      "                                                                 \n",
      "=================================================================\n",
      "Total params: 178761 (698.29 KB)\n",
      "Trainable params: 178761 (698.29 KB)\n",
      "Non-trainable params: 0 (0.00 Byte)\n",
      "_________________________________________________________________\n"
     ]
    }
   ],
   "source": [
    "model.summary()"
   ]
  },
  {
   "cell_type": "code",
   "execution_count": 119,
   "id": "44e6fc34-81ae-49c7-a305-1e2bc56843d7",
   "metadata": {},
   "outputs": [
    {
     "name": "stdout",
     "output_type": "stream",
     "text": [
      "Epoch 1/100\n",
      "74/74 [==============================] - 13s 131ms/step - loss: 0.0018\n",
      "Epoch 2/100\n",
      "74/74 [==============================] - 10s 131ms/step - loss: 0.0020\n",
      "Epoch 3/100\n",
      "74/74 [==============================] - 10s 131ms/step - loss: 0.0018\n",
      "Epoch 4/100\n",
      "74/74 [==============================] - 10s 130ms/step - loss: 0.0017\n",
      "Epoch 5/100\n",
      "74/74 [==============================] - 10s 131ms/step - loss: 0.0017\n",
      "Epoch 6/100\n",
      "74/74 [==============================] - 10s 130ms/step - loss: 0.0019\n",
      "Epoch 7/100\n",
      "74/74 [==============================] - 10s 132ms/step - loss: 0.0019\n",
      "Epoch 8/100\n",
      "74/74 [==============================] - 10s 130ms/step - loss: 0.0018\n",
      "Epoch 9/100\n",
      "74/74 [==============================] - 10s 130ms/step - loss: 0.0018\n",
      "Epoch 10/100\n",
      "74/74 [==============================] - 10s 131ms/step - loss: 0.0017\n",
      "Epoch 11/100\n",
      "74/74 [==============================] - 10s 130ms/step - loss: 0.0017\n",
      "Epoch 12/100\n",
      "74/74 [==============================] - 10s 133ms/step - loss: 0.0018\n",
      "Epoch 13/100\n",
      "74/74 [==============================] - 10s 140ms/step - loss: 0.0017\n",
      "Epoch 14/100\n",
      "74/74 [==============================] - 11s 142ms/step - loss: 0.0016\n",
      "Epoch 15/100\n",
      "74/74 [==============================] - 10s 139ms/step - loss: 0.0017\n",
      "Epoch 16/100\n",
      "74/74 [==============================] - 10s 140ms/step - loss: 0.0018\n",
      "Epoch 17/100\n",
      "74/74 [==============================] - 10s 140ms/step - loss: 0.0017\n",
      "Epoch 18/100\n",
      "74/74 [==============================] - 10s 139ms/step - loss: 0.0017\n",
      "Epoch 19/100\n",
      "74/74 [==============================] - 10s 139ms/step - loss: 0.0018\n",
      "Epoch 20/100\n",
      "74/74 [==============================] - 10s 138ms/step - loss: 0.0018\n",
      "Epoch 21/100\n",
      "74/74 [==============================] - 10s 138ms/step - loss: 0.0018\n",
      "Epoch 22/100\n",
      "74/74 [==============================] - 10s 139ms/step - loss: 0.0018\n",
      "Epoch 23/100\n",
      "74/74 [==============================] - 10s 140ms/step - loss: 0.0018\n",
      "Epoch 24/100\n",
      "74/74 [==============================] - 10s 140ms/step - loss: 0.0017\n",
      "Epoch 25/100\n",
      "74/74 [==============================] - 10s 141ms/step - loss: 0.0018\n",
      "Epoch 26/100\n",
      "74/74 [==============================] - 10s 140ms/step - loss: 0.0017\n",
      "Epoch 27/100\n",
      "74/74 [==============================] - 10s 138ms/step - loss: 0.0017\n",
      "Epoch 28/100\n",
      "74/74 [==============================] - 10s 140ms/step - loss: 0.0017\n",
      "Epoch 29/100\n",
      "74/74 [==============================] - 10s 137ms/step - loss: 0.0017\n",
      "Epoch 30/100\n",
      "74/74 [==============================] - 10s 140ms/step - loss: 0.0018\n",
      "Epoch 31/100\n",
      "74/74 [==============================] - 10s 142ms/step - loss: 0.0017\n",
      "Epoch 32/100\n",
      "74/74 [==============================] - 10s 141ms/step - loss: 0.0016\n",
      "Epoch 33/100\n",
      "74/74 [==============================] - 10s 141ms/step - loss: 0.0016\n",
      "Epoch 34/100\n",
      "74/74 [==============================] - 10s 140ms/step - loss: 0.0016\n",
      "Epoch 35/100\n",
      "74/74 [==============================] - 10s 139ms/step - loss: 0.0017\n",
      "Epoch 36/100\n",
      "74/74 [==============================] - 10s 139ms/step - loss: 0.0018\n",
      "Epoch 37/100\n",
      "74/74 [==============================] - 10s 140ms/step - loss: 0.0018\n",
      "Epoch 38/100\n",
      "74/74 [==============================] - 10s 141ms/step - loss: 0.0017\n",
      "Epoch 39/100\n",
      "74/74 [==============================] - 10s 141ms/step - loss: 0.0018\n",
      "Epoch 40/100\n",
      "74/74 [==============================] - 10s 139ms/step - loss: 0.0016\n",
      "Epoch 41/100\n",
      "74/74 [==============================] - 10s 138ms/step - loss: 0.0017\n",
      "Epoch 42/100\n",
      "74/74 [==============================] - 10s 141ms/step - loss: 0.0018\n",
      "Epoch 43/100\n",
      "74/74 [==============================] - 10s 139ms/step - loss: 0.0016\n",
      "Epoch 44/100\n",
      "74/74 [==============================] - 10s 141ms/step - loss: 0.0017\n",
      "Epoch 45/100\n",
      "74/74 [==============================] - 10s 139ms/step - loss: 0.0017\n",
      "Epoch 46/100\n",
      "74/74 [==============================] - 10s 140ms/step - loss: 0.0016\n",
      "Epoch 47/100\n",
      "74/74 [==============================] - 10s 140ms/step - loss: 0.0017\n",
      "Epoch 48/100\n",
      "74/74 [==============================] - 10s 140ms/step - loss: 0.0017\n",
      "Epoch 49/100\n",
      "74/74 [==============================] - 10s 140ms/step - loss: 0.0017\n",
      "Epoch 50/100\n",
      "74/74 [==============================] - 11s 153ms/step - loss: 0.0016\n",
      "Epoch 51/100\n",
      "74/74 [==============================] - 10s 138ms/step - loss: 0.0016\n",
      "Epoch 52/100\n",
      "74/74 [==============================] - 10s 139ms/step - loss: 0.0017\n",
      "Epoch 53/100\n",
      "74/74 [==============================] - 10s 138ms/step - loss: 0.0017\n",
      "Epoch 54/100\n",
      "74/74 [==============================] - 10s 138ms/step - loss: 0.0016\n",
      "Epoch 55/100\n",
      "74/74 [==============================] - 10s 139ms/step - loss: 0.0018\n",
      "Epoch 56/100\n",
      "74/74 [==============================] - 10s 139ms/step - loss: 0.0016\n",
      "Epoch 57/100\n",
      "74/74 [==============================] - 10s 137ms/step - loss: 0.0016\n",
      "Epoch 58/100\n",
      "74/74 [==============================] - 10s 138ms/step - loss: 0.0016\n",
      "Epoch 59/100\n",
      "74/74 [==============================] - 10s 140ms/step - loss: 0.0017\n",
      "Epoch 60/100\n",
      "74/74 [==============================] - 10s 140ms/step - loss: 0.0017\n",
      "Epoch 61/100\n",
      "74/74 [==============================] - 10s 139ms/step - loss: 0.0017\n",
      "Epoch 62/100\n",
      "74/74 [==============================] - 10s 140ms/step - loss: 0.0017\n",
      "Epoch 63/100\n",
      "74/74 [==============================] - 10s 140ms/step - loss: 0.0015\n",
      "Epoch 64/100\n",
      "74/74 [==============================] - 10s 139ms/step - loss: 0.0016\n",
      "Epoch 65/100\n",
      "74/74 [==============================] - 10s 139ms/step - loss: 0.0016\n",
      "Epoch 66/100\n",
      "74/74 [==============================] - 10s 138ms/step - loss: 0.0016\n",
      "Epoch 67/100\n",
      "74/74 [==============================] - 10s 138ms/step - loss: 0.0017\n",
      "Epoch 68/100\n",
      "74/74 [==============================] - 10s 141ms/step - loss: 0.0016\n",
      "Epoch 69/100\n",
      "74/74 [==============================] - 10s 140ms/step - loss: 0.0017\n",
      "Epoch 70/100\n",
      "74/74 [==============================] - 10s 140ms/step - loss: 0.0016\n",
      "Epoch 71/100\n",
      "74/74 [==============================] - 10s 141ms/step - loss: 0.0017\n",
      "Epoch 72/100\n",
      "74/74 [==============================] - 10s 140ms/step - loss: 0.0016\n",
      "Epoch 73/100\n",
      "74/74 [==============================] - 10s 142ms/step - loss: 0.0018\n",
      "Epoch 74/100\n",
      "74/74 [==============================] - 10s 140ms/step - loss: 0.0015\n",
      "Epoch 75/100\n",
      "74/74 [==============================] - 10s 139ms/step - loss: 0.0016\n",
      "Epoch 76/100\n",
      "74/74 [==============================] - 10s 139ms/step - loss: 0.0017\n",
      "Epoch 77/100\n",
      "74/74 [==============================] - 10s 142ms/step - loss: 0.0017\n",
      "Epoch 78/100\n",
      "74/74 [==============================] - 11s 142ms/step - loss: 0.0015\n",
      "Epoch 79/100\n",
      "74/74 [==============================] - 10s 138ms/step - loss: 0.0016\n",
      "Epoch 80/100\n",
      "74/74 [==============================] - 10s 137ms/step - loss: 0.0015\n",
      "Epoch 81/100\n",
      "74/74 [==============================] - 10s 142ms/step - loss: 0.0017\n",
      "Epoch 82/100\n",
      "74/74 [==============================] - 11s 144ms/step - loss: 0.0015\n",
      "Epoch 83/100\n",
      "74/74 [==============================] - 11s 145ms/step - loss: 0.0017\n",
      "Epoch 84/100\n",
      "74/74 [==============================] - 10s 141ms/step - loss: 0.0018\n",
      "Epoch 85/100\n",
      "74/74 [==============================] - 10s 140ms/step - loss: 0.0016\n",
      "Epoch 86/100\n",
      "74/74 [==============================] - 10s 138ms/step - loss: 0.0016\n",
      "Epoch 87/100\n",
      "74/74 [==============================] - 10s 140ms/step - loss: 0.0018\n",
      "Epoch 88/100\n",
      "74/74 [==============================] - 10s 141ms/step - loss: 260348112.0000\n",
      "Epoch 89/100\n",
      "74/74 [==============================] - 10s 141ms/step - loss: 0.0027\n",
      "Epoch 90/100\n",
      "74/74 [==============================] - 10s 140ms/step - loss: 0.0024\n",
      "Epoch 91/100\n",
      "74/74 [==============================] - 10s 140ms/step - loss: 0.0022\n",
      "Epoch 92/100\n",
      "74/74 [==============================] - 10s 139ms/step - loss: 0.0021\n",
      "Epoch 93/100\n",
      "74/74 [==============================] - 10s 139ms/step - loss: 0.0020\n",
      "Epoch 94/100\n",
      "74/74 [==============================] - 10s 140ms/step - loss: 0.0020\n",
      "Epoch 95/100\n",
      "74/74 [==============================] - 10s 141ms/step - loss: 0.0020\n",
      "Epoch 96/100\n",
      "74/74 [==============================] - 10s 140ms/step - loss: 0.0021\n",
      "Epoch 97/100\n",
      "74/74 [==============================] - 10s 142ms/step - loss: 0.0019\n",
      "Epoch 98/100\n",
      "74/74 [==============================] - 10s 141ms/step - loss: 0.0018\n",
      "Epoch 99/100\n",
      "74/74 [==============================] - 10s 140ms/step - loss: 0.0020\n",
      "Epoch 100/100\n",
      "74/74 [==============================] - 10s 140ms/step - loss: 0.0019\n"
     ]
    },
    {
     "data": {
      "text/plain": [
       "<keras.src.callbacks.History at 0x244e0a2c350>"
      ]
     },
     "execution_count": 119,
     "metadata": {},
     "output_type": "execute_result"
    }
   ],
   "source": [
    "model.compile(optimizer='adam', loss = 'mean_squared_error')\n",
    "model.fit(x_train,y_train, epochs = 100)"
   ]
  },
  {
   "cell_type": "code",
   "execution_count": 120,
   "id": "973aba1e-0e53-44e6-b184-fbd8b5bf3e6c",
   "metadata": {},
   "outputs": [],
   "source": [
    "model.save('keras_model100.keras')"
   ]
  },
  {
   "cell_type": "code",
   "execution_count": 121,
   "id": "7bfd8d98-d227-40a3-a253-8513132c7267",
   "metadata": {},
   "outputs": [
    {
     "data": {
      "text/html": [
       "<div>\n",
       "<style scoped>\n",
       "    .dataframe tbody tr th:only-of-type {\n",
       "        vertical-align: middle;\n",
       "    }\n",
       "\n",
       "    .dataframe tbody tr th {\n",
       "        vertical-align: top;\n",
       "    }\n",
       "\n",
       "    .dataframe thead th {\n",
       "        text-align: right;\n",
       "    }\n",
       "</style>\n",
       "<table border=\"1\" class=\"dataframe\">\n",
       "  <thead>\n",
       "    <tr style=\"text-align: right;\">\n",
       "      <th></th>\n",
       "      <th>Close</th>\n",
       "    </tr>\n",
       "  </thead>\n",
       "  <tbody>\n",
       "    <tr>\n",
       "      <th>2454</th>\n",
       "      <td>55.205002</td>\n",
       "    </tr>\n",
       "    <tr>\n",
       "      <th>2455</th>\n",
       "      <td>56.752499</td>\n",
       "    </tr>\n",
       "    <tr>\n",
       "      <th>2456</th>\n",
       "      <td>56.764999</td>\n",
       "    </tr>\n",
       "    <tr>\n",
       "      <th>2457</th>\n",
       "      <td>56.099998</td>\n",
       "    </tr>\n",
       "    <tr>\n",
       "      <th>2458</th>\n",
       "      <td>56.757500</td>\n",
       "    </tr>\n",
       "  </tbody>\n",
       "</table>\n",
       "</div>"
      ],
      "text/plain": [
       "          Close\n",
       "2454  55.205002\n",
       "2455  56.752499\n",
       "2456  56.764999\n",
       "2457  56.099998\n",
       "2458  56.757500"
      ]
     },
     "execution_count": 121,
     "metadata": {},
     "output_type": "execute_result"
    }
   ],
   "source": [
    "data_testing.head()"
   ]
  },
  {
   "cell_type": "code",
   "execution_count": 122,
   "id": "3e4476d3-47b0-43ea-aad0-c682ff7be4d2",
   "metadata": {},
   "outputs": [
    {
     "data": {
      "text/html": [
       "<div>\n",
       "<style scoped>\n",
       "    .dataframe tbody tr th:only-of-type {\n",
       "        vertical-align: middle;\n",
       "    }\n",
       "\n",
       "    .dataframe tbody tr th {\n",
       "        vertical-align: top;\n",
       "    }\n",
       "\n",
       "    .dataframe thead th {\n",
       "        text-align: right;\n",
       "    }\n",
       "</style>\n",
       "<table border=\"1\" class=\"dataframe\">\n",
       "  <thead>\n",
       "    <tr style=\"text-align: right;\">\n",
       "      <th></th>\n",
       "      <th>Close</th>\n",
       "    </tr>\n",
       "  </thead>\n",
       "  <tbody>\n",
       "    <tr>\n",
       "      <th>2354</th>\n",
       "      <td>46.430000</td>\n",
       "    </tr>\n",
       "    <tr>\n",
       "      <th>2355</th>\n",
       "      <td>47.165001</td>\n",
       "    </tr>\n",
       "    <tr>\n",
       "      <th>2356</th>\n",
       "      <td>47.730000</td>\n",
       "    </tr>\n",
       "    <tr>\n",
       "      <th>2357</th>\n",
       "      <td>47.520000</td>\n",
       "    </tr>\n",
       "    <tr>\n",
       "      <th>2358</th>\n",
       "      <td>47.250000</td>\n",
       "    </tr>\n",
       "    <tr>\n",
       "      <th>...</th>\n",
       "      <td>...</td>\n",
       "    </tr>\n",
       "    <tr>\n",
       "      <th>2449</th>\n",
       "      <td>54.972500</td>\n",
       "    </tr>\n",
       "    <tr>\n",
       "      <th>2450</th>\n",
       "      <td>54.705002</td>\n",
       "    </tr>\n",
       "    <tr>\n",
       "      <th>2451</th>\n",
       "      <td>55.992500</td>\n",
       "    </tr>\n",
       "    <tr>\n",
       "      <th>2452</th>\n",
       "      <td>56.147499</td>\n",
       "    </tr>\n",
       "    <tr>\n",
       "      <th>2453</th>\n",
       "      <td>54.740002</td>\n",
       "    </tr>\n",
       "  </tbody>\n",
       "</table>\n",
       "<p>100 rows × 1 columns</p>\n",
       "</div>"
      ],
      "text/plain": [
       "          Close\n",
       "2354  46.430000\n",
       "2355  47.165001\n",
       "2356  47.730000\n",
       "2357  47.520000\n",
       "2358  47.250000\n",
       "...         ...\n",
       "2449  54.972500\n",
       "2450  54.705002\n",
       "2451  55.992500\n",
       "2452  56.147499\n",
       "2453  54.740002\n",
       "\n",
       "[100 rows x 1 columns]"
      ]
     },
     "execution_count": 122,
     "metadata": {},
     "output_type": "execute_result"
    }
   ],
   "source": [
    "past_100_days = data_training.tail(100)\n",
    "past_100_days"
   ]
  },
  {
   "cell_type": "code",
   "execution_count": 123,
   "id": "ba0f88af-33c4-43a4-9ace-246d1bce8bd2",
   "metadata": {},
   "outputs": [],
   "source": [
    "final_df = pd.concat([past_100_days, data_testing], ignore_index=True)"
   ]
  },
  {
   "cell_type": "code",
   "execution_count": 124,
   "id": "49908e26-5a4f-4688-a7b2-fd4af86448ef",
   "metadata": {},
   "outputs": [
    {
     "data": {
      "text/html": [
       "<div>\n",
       "<style scoped>\n",
       "    .dataframe tbody tr th:only-of-type {\n",
       "        vertical-align: middle;\n",
       "    }\n",
       "\n",
       "    .dataframe tbody tr th {\n",
       "        vertical-align: top;\n",
       "    }\n",
       "\n",
       "    .dataframe thead th {\n",
       "        text-align: right;\n",
       "    }\n",
       "</style>\n",
       "<table border=\"1\" class=\"dataframe\">\n",
       "  <thead>\n",
       "    <tr style=\"text-align: right;\">\n",
       "      <th></th>\n",
       "      <th>Close</th>\n",
       "    </tr>\n",
       "  </thead>\n",
       "  <tbody>\n",
       "    <tr>\n",
       "      <th>0</th>\n",
       "      <td>46.430000</td>\n",
       "    </tr>\n",
       "    <tr>\n",
       "      <th>1</th>\n",
       "      <td>47.165001</td>\n",
       "    </tr>\n",
       "    <tr>\n",
       "      <th>2</th>\n",
       "      <td>47.730000</td>\n",
       "    </tr>\n",
       "    <tr>\n",
       "      <th>3</th>\n",
       "      <td>47.520000</td>\n",
       "    </tr>\n",
       "    <tr>\n",
       "      <th>4</th>\n",
       "      <td>47.250000</td>\n",
       "    </tr>\n",
       "  </tbody>\n",
       "</table>\n",
       "</div>"
      ],
      "text/plain": [
       "       Close\n",
       "0  46.430000\n",
       "1  47.165001\n",
       "2  47.730000\n",
       "3  47.520000\n",
       "4  47.250000"
      ]
     },
     "execution_count": 124,
     "metadata": {},
     "output_type": "execute_result"
    }
   ],
   "source": [
    "final_df.head()"
   ]
  },
  {
   "cell_type": "code",
   "execution_count": 125,
   "id": "959b15d3-c9e3-473d-b88a-2ee0c9922ed3",
   "metadata": {},
   "outputs": [
    {
     "data": {
      "text/plain": [
       "array([[0.02027755],\n",
       "       [0.02507755],\n",
       "       [0.02876734],\n",
       "       ...,\n",
       "       [0.95415507],\n",
       "       [0.98021225],\n",
       "       [0.97678372]])"
      ]
     },
     "execution_count": 125,
     "metadata": {},
     "output_type": "execute_result"
    }
   ],
   "source": [
    "# To scale down input data\n",
    "input_data = scaler.fit_transform(final_df)\n",
    "input_data"
   ]
  },
  {
   "cell_type": "code",
   "execution_count": 126,
   "id": "c2965c7f-9911-4246-a497-06d79e0ae2e5",
   "metadata": {},
   "outputs": [
    {
     "data": {
      "text/plain": [
       "(1152, 1)"
      ]
     },
     "execution_count": 126,
     "metadata": {},
     "output_type": "execute_result"
    }
   ],
   "source": [
    "input_data.shape"
   ]
  },
  {
   "cell_type": "code",
   "execution_count": 127,
   "id": "01cad1ea-422a-4b04-8b81-19140d68991b",
   "metadata": {},
   "outputs": [],
   "source": [
    "x_test = []\n",
    "y_test = []\n",
    "for i in range (100, input_data.shape[0]):\n",
    "  x_test.append(input_data[i-100:i])\n",
    "  y_test.append(input_data[i,0])"
   ]
  },
  {
   "cell_type": "code",
   "execution_count": 128,
   "id": "ec6ec471-face-4fe2-b6c0-8bba11b1a408",
   "metadata": {},
   "outputs": [
    {
     "name": "stdout",
     "output_type": "stream",
     "text": [
      "(1052, 100, 1)\n"
     ]
    }
   ],
   "source": [
    "x_test, y_test = np.array(x_test), np.array(y_test)\n",
    "print(x_test.shape)"
   ]
  },
  {
   "cell_type": "code",
   "execution_count": 129,
   "id": "061df80a-bfcb-43b2-84f5-c1f7d0a9fe23",
   "metadata": {},
   "outputs": [
    {
     "data": {
      "text/plain": [
       "(1052,)"
      ]
     },
     "execution_count": 129,
     "metadata": {},
     "output_type": "execute_result"
    }
   ],
   "source": [
    "y_test.shape"
   ]
  },
  {
   "cell_type": "code",
   "execution_count": 130,
   "id": "67b5e57a-1556-48d9-86bd-fe80b55f1be0",
   "metadata": {},
   "outputs": [
    {
     "name": "stdout",
     "output_type": "stream",
     "text": [
      "33/33 [==============================] - 2s 42ms/step\n"
     ]
    }
   ],
   "source": [
    "# Making predictions\n",
    "y_predicted = model.predict(x_test)"
   ]
  },
  {
   "cell_type": "code",
   "execution_count": 131,
   "id": "b3002fa1-20cd-4b64-b0a0-7d3d189b3888",
   "metadata": {},
   "outputs": [
    {
     "data": {
      "text/plain": [
       "(1052, 1)"
      ]
     },
     "execution_count": 131,
     "metadata": {},
     "output_type": "execute_result"
    }
   ],
   "source": [
    "y_predicted.shape"
   ]
  },
  {
   "cell_type": "code",
   "execution_count": 132,
   "id": "5cc502a6-8306-432b-88da-ea3ca432431e",
   "metadata": {},
   "outputs": [
    {
     "data": {
      "text/plain": [
       "array([[0.13083825],\n",
       "       [0.13190249],\n",
       "       [0.13307539],\n",
       "       ...,\n",
       "       [0.8803626 ],\n",
       "       [0.8785598 ],\n",
       "       [0.8814534 ]], dtype=float32)"
      ]
     },
     "execution_count": 132,
     "metadata": {},
     "output_type": "execute_result"
    }
   ],
   "source": [
    "y_predicted"
   ]
  },
  {
   "cell_type": "code",
   "execution_count": 133,
   "id": "9cf1c8c2-4d08-44a8-bd34-17ce143b7451",
   "metadata": {},
   "outputs": [
    {
     "data": {
      "text/plain": [
       "array([0.00653061])"
      ]
     },
     "execution_count": 133,
     "metadata": {},
     "output_type": "execute_result"
    }
   ],
   "source": [
    "scaler.scale_"
   ]
  },
  {
   "cell_type": "code",
   "execution_count": 134,
   "id": "c230a7d5-f29e-494b-908a-7d62c380fcd7",
   "metadata": {},
   "outputs": [],
   "source": [
    "scale_factor = 1/0.00682769\n",
    "y_predicted = y_predicted*scale_factor\n",
    "y_test = y_test * scale_factor"
   ]
  },
  {
   "cell_type": "code",
   "execution_count": 135,
   "id": "58cfaa9f-d7ef-4521-9962-06326c8807c7",
   "metadata": {},
   "outputs": [
    {
     "data": {
      "text/plain": [
       "array([[[0.02027755],\n",
       "        [0.02507755],\n",
       "        [0.02876734],\n",
       "        ...,\n",
       "        [0.08272653],\n",
       "        [0.08373877],\n",
       "        [0.07454695]],\n",
       "\n",
       "       [[0.02507755],\n",
       "        [0.02876734],\n",
       "        [0.02739592],\n",
       "        ...,\n",
       "        [0.08373877],\n",
       "        [0.07454695],\n",
       "        [0.07758368]],\n",
       "\n",
       "       [[0.02876734],\n",
       "        [0.02739592],\n",
       "        [0.02563265],\n",
       "        ...,\n",
       "        [0.07454695],\n",
       "        [0.07758368],\n",
       "        [0.08768978]],\n",
       "\n",
       "       ...,\n",
       "\n",
       "       [[0.96140406],\n",
       "        [0.96238371],\n",
       "        [0.98393475],\n",
       "        ...,\n",
       "        [0.95376325],\n",
       "        [0.95755102],\n",
       "        [0.96597557]],\n",
       "\n",
       "       [[0.96238371],\n",
       "        [0.98393475],\n",
       "        [0.98223673],\n",
       "        ...,\n",
       "        [0.95755102],\n",
       "        [0.96597557],\n",
       "        [0.95415507]],\n",
       "\n",
       "       [[0.98393475],\n",
       "        [0.98223673],\n",
       "        [0.99118373],\n",
       "        ...,\n",
       "        [0.96597557],\n",
       "        [0.95415507],\n",
       "        [0.98021225]]])"
      ]
     },
     "execution_count": 135,
     "metadata": {},
     "output_type": "execute_result"
    }
   ],
   "source": [
    "x_test"
   ]
  },
  {
   "cell_type": "code",
   "execution_count": 136,
   "id": "3f885214-ebd0-494e-b6aa-173dde158862",
   "metadata": {},
   "outputs": [
    {
     "name": "stdout",
     "output_type": "stream",
     "text": [
      "      Actual Price  Predicted Price\n",
      "0      1783.298706      2977.641602\n",
      "1      2009.948832      3001.509277\n",
      "2      2011.779724      3027.814209\n",
      "3      1914.382080      3055.437500\n",
      "4      2010.681300      3080.979004\n",
      "...            ...              ...\n",
      "1047  21518.376766     19821.658203\n",
      "1048  21707.314539     19788.662109\n",
      "1049  21442.215682     19787.267578\n",
      "1050  22026.601542     19746.837891\n",
      "1051  21949.709665     19811.730469\n",
      "\n",
      "[1052 rows x 2 columns]\n"
     ]
    }
   ],
   "source": [
    "# Invert scaling to get the actual prices\n",
    "y_test_actual = scaler.inverse_transform(y_test.reshape(-1, 1))\n",
    "y_predicted_actual = scaler.inverse_transform(y_predicted.reshape(-1, 1))\n",
    "\n",
    "# Create a DataFrame to display the table\n",
    "result_table = pd.DataFrame({\n",
    "    'Actual Price': y_test_actual[:, 0],  # No need for flatten()\n",
    "    'Predicted Price': y_predicted_actual[:, 0]  # No need for flatten()\n",
    "})\n",
    "\n",
    "# Print the result table\n",
    "print(result_table)\n"
   ]
  },
  {
   "cell_type": "code",
   "execution_count": 137,
   "id": "b58e1ab8-7ce6-420b-af52-c2220bf24375",
   "metadata": {},
   "outputs": [
    {
     "data": {
      "image/png": "[encoded data removed]",
      "text/plain": [
       "<Figure size 1200x600 with 1 Axes>"
      ]
     },
     "metadata": {},
     "output_type": "display_data"
    }
   ],
   "source": [
    "plt.figure(figsize = (12,6))\n",
    "plt.plot(y_test ,'b',label='Original Price')\n",
    "plt.plot(y_predicted, 'r', label = 'Predicted Price')\n",
    "plt.xlabel('Time')\n",
    "plt.ylabel('Price')\n",
    "plt.legend()\n",
    "plt.show()"
   ]
  },
  {
   "cell_type": "code",
   "execution_count": 138,
   "id": "01bcefd3-59a1-4766-87e8-738091bcd280",
   "metadata": {},
   "outputs": [],
   "source": [
    "input_data = scaler.fit_transform(final_df)\n",
    "import keras as keras\n",
    "model = keras.models.load_model('keras_model.keras')"
   ]
  },
  {
   "cell_type": "code",
   "execution_count": 139,
   "id": "f3432ab1-8512-47e3-aba1-d8bdf11e1837",
   "metadata": {},
   "outputs": [
    {
     "name": "stdout",
     "output_type": "stream",
     "text": [
      "1/1 [==============================] - 0s 402ms/step\n",
      "Predicted Stock Price for the Next Day: 178.67583\n"
     ]
    }
   ],
   "source": [
    "input_data = scaler.fit_transform(final_df)\n",
    "\n",
    "# Get the last 100 days of data from the testing set\n",
    "x_next_day = input_data[-100:]\n",
    "\n",
    "# Reshape the data to match the input shape of the model\n",
    "x_next_day = x_next_day.reshape(1, x_next_day.shape[0], 1)\n",
    "\n",
    "import keras as keras\n",
    "# Load the above trained model\n",
    "model = keras.models.load_model('keras_model.keras')\n",
    "\n",
    "# Use the trained model to predict the stock price for the next day\n",
    "predicted_next_day_price = model.predict(x_next_day)\n",
    "\n",
    "# Invert the scaling to get the actual stock price\n",
    "predicted_next_day_price = scaler.inverse_transform(predicted_next_day_price.reshape(-1, 1))\n",
    "\n",
    "# Print the predicted stock price for the next day\n",
    "print(\"Predicted Stock Price for the Next Day:\", predicted_next_day_price[0, 0])"
   ]
  },
  {
   "cell_type": "code",
   "execution_count": null,
   "id": "3c46997f-7cdf-4bf3-b8f8-ac366829c102",
   "metadata": {},
   "outputs": [],
   "source": []
  }
 ],
 "metadata": {
  "kernelspec": {
   "display_name": "Python3.11",
   "language": "python",
   "name": "python3.11"
  },
  "language_info": {
   "codemirror_mode": {
    "name": "ipython",
    "version": 3
   },
   "file_extension": ".py",
   "mimetype": "text/x-python",
   "name": "python",
   "nbconvert_exporter": "python",
   "pygments_lexer": "ipython3",
   "version": "3.11.6"
  }
 },
 "nbformat": 4,
 "nbformat_minor": 5
}
